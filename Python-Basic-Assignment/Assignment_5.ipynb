{
 "cells": [
  {
   "cell_type": "markdown",
   "metadata": {},
   "source": [
    "## 1. What does an empty dictionary's code look like?\n",
    "\n",
    "\n"
   ]
  },
  {
   "cell_type": "markdown",
   "metadata": {},
   "source": [
    "* empty dictionary looks like d = {}"
   ]
  },
  {
   "cell_type": "markdown",
   "metadata": {},
   "source": [
    "## 2. What is the value of a dictionary value with the key 'foo' and the value 42?\n"
   ]
  },
  {
   "cell_type": "markdown",
   "metadata": {},
   "source": [
    "* d = {'foo':42}\n",
    "* The value of dictionary is 42"
   ]
  },
  {
   "cell_type": "markdown",
   "metadata": {},
   "source": [
    "## 3. What is the most significant distinction between a dictionary and a list?\n"
   ]
  },
  {
   "cell_type": "markdown",
   "metadata": {},
   "source": [
    "* The dictionary elements are specified by key value pair and all objects can be accessed by key. \n",
    "\n",
    "  d = {\"name\":\"Ruchi\", \"surname\":\"Chudasama\", \"phone_no\":92221122}\n",
    "\n",
    "  d['surname'] gives 'Chudasama'\n",
    "\n",
    "  The two keys can not be same for dictionary. \n",
    "\n",
    "\n",
    "* The list elements can be accessed using the index value.\n",
    "\n",
    "  l = [22,34,\"Ruchi\", 89]\n",
    "\n",
    "  l[2] gives 'Ruchi'"
   ]
  },
  {
   "cell_type": "markdown",
   "metadata": {},
   "source": [
    "## 4. What happens if you try to access spam['foo'] if spam is {'bar': 100}?\n"
   ]
  },
  {
   "cell_type": "markdown",
   "metadata": {},
   "source": [
    "It will give the keyError : 'foo'"
   ]
  },
  {
   "cell_type": "markdown",
   "metadata": {},
   "source": [
    "## 5. If a dictionary is stored in spam, what is the difference between the expressions 'cat' in spam and 'cat' in spam.keys()?\n"
   ]
  },
  {
   "cell_type": "markdown",
   "metadata": {},
   "source": [
    "The condition checks whether cat is present in spam dictionary as key or value or not and it gives boolean output as False for both cases."
   ]
  },
  {
   "cell_type": "markdown",
   "metadata": {},
   "source": [
    "## 6. If a dictionary is stored in spam, what is the difference between the expressions 'cat' in spam and 'cat' in spam.values()?\n"
   ]
  },
  {
   "cell_type": "markdown",
   "metadata": {},
   "source": [
    "The condition checks whether cat is present in spam dictionary as value or not and it gives boolean output as False for both cases."
   ]
  },
  {
   "cell_type": "markdown",
   "metadata": {},
   "source": [
    "## 7. What is a shortcut for the following code?\n"
   ]
  },
  {
   "cell_type": "markdown",
   "metadata": {},
   "source": [
    "if 'color' not in spam:\n",
    "\n",
    "spam['color'] = 'black'\n",
    "\n",
    "Answer: spam.setdefault('color', 'black')"
   ]
  },
  {
   "cell_type": "markdown",
   "metadata": {},
   "source": [
    "## 8. How do you \"pretty print\" dictionary values using which module and function?\n"
   ]
  },
  {
   "cell_type": "markdown",
   "metadata": {},
   "source": [
    "pprint module is used to pretty print a dictionary pprint.pprint()"
   ]
  }
 ],
 "metadata": {
  "kernelspec": {
   "display_name": "Python 3",
   "language": "python",
   "name": "python3"
  },
  "language_info": {
   "codemirror_mode": {
    "name": "ipython",
    "version": 3
   },
   "file_extension": ".py",
   "mimetype": "text/x-python",
   "name": "python",
   "nbconvert_exporter": "python",
   "pygments_lexer": "ipython3",
   "version": "3.8.5"
  }
 },
 "nbformat": 4,
 "nbformat_minor": 4
}
