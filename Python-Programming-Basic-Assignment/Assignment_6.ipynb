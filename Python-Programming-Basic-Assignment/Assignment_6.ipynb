{
 "cells": [
  {
   "cell_type": "markdown",
   "id": "8e05424c",
   "metadata": {},
   "source": [
    "# 1. Write a Python Program to Display Fibonacci Sequence Using Recursion?"
   ]
  },
  {
   "cell_type": "code",
   "execution_count": 42,
   "id": "4b4f3857",
   "metadata": {},
   "outputs": [
    {
     "name": "stdout",
     "output_type": "stream",
     "text": [
      "How many fibonnaci sequence numbers required? 10\n",
      "0,1,1,2,3,5,8,13,21,34,"
     ]
    }
   ],
   "source": [
    "def fibonnaci_recusrive(n):\n",
    "    if n == 0 or n ==1:\n",
    "        return n\n",
    "    else :\n",
    "        return fibonnaci_recusrive(n-2) + fibonnaci_recusrive(n-1) \n",
    " \n",
    "nterms = int(input(\"How many fibonnaci sequence numbers required? \"))\n",
    "for i in range(nterms):\n",
    "    print(fibonnaci_recusrive(i), end = \",\")"
   ]
  },
  {
   "cell_type": "markdown",
   "id": "e06f83ca",
   "metadata": {},
   "source": [
    "# 2. Write a Python Program to Find Factorial of Number Using Recursion?"
   ]
  },
  {
   "cell_type": "code",
   "execution_count": 43,
   "id": "e8edf6d3",
   "metadata": {},
   "outputs": [],
   "source": [
    "def factorial_recusrive(a):\n",
    "    if a == 1:\n",
    "        return a\n",
    "    elif a < 0:\n",
    "        print(\"Please enter positive integer, factorial does not exist for negative integer\")\n",
    "    elif a == 0:\n",
    "        print(\"The factorial of 0 is 1\")\n",
    "    else :\n",
    "        #print(\"coming in loop\",a)\n",
    "        return a* factorial_recusrive(a-1) "
   ]
  },
  {
   "cell_type": "code",
   "execution_count": 44,
   "id": "c7291a1e",
   "metadata": {},
   "outputs": [
    {
     "data": {
      "text/plain": [
       "120"
      ]
     },
     "execution_count": 44,
     "metadata": {},
     "output_type": "execute_result"
    }
   ],
   "source": [
    "factorial_recusrive(5)"
   ]
  },
  {
   "cell_type": "markdown",
   "id": "8c847f0f",
   "metadata": {},
   "source": [
    "# 3. Write a Python Program to calculate your Body Mass Index?"
   ]
  },
  {
   "cell_type": "code",
   "execution_count": 18,
   "id": "8bc0af90",
   "metadata": {},
   "outputs": [
    {
     "name": "stdout",
     "output_type": "stream",
     "text": [
      "Enter your weight in kg : 64\n",
      "Enter your weight in meters : 1.63\n",
      "Your BMI is : 24.09 kg/(m)^2\n"
     ]
    }
   ],
   "source": [
    "weight  = float(input(\"Enter your weight in kg : \"))\n",
    "height  = float(input(\"Enter your weight in meters : \"))\n",
    "\n",
    "def BMI(weight,height):\n",
    "    bmi = weight/(height**2)\n",
    "    return bmi\n",
    "\n",
    "print(\"Your BMI is : {0:.2f} kg/(m)^2\".format(BMI(weight, height)))\n"
   ]
  },
  {
   "cell_type": "markdown",
   "id": "1611001e",
   "metadata": {},
   "source": [
    "# 4. Write a Python Program to calculate the natural logarithm of any number?"
   ]
  },
  {
   "cell_type": "code",
   "execution_count": 6,
   "id": "85d6dc68",
   "metadata": {},
   "outputs": [
    {
     "name": "stdout",
     "output_type": "stream",
     "text": [
      "Enter a number 12.22\n",
      "The natural logarithm of 12.22 is 2.503073953743449\n"
     ]
    }
   ],
   "source": [
    "import math\n",
    "a = float(input(\"Enter a number \"))\n",
    "print(\"The natural logarithm of {} is {}\".format(a, math.log(a)))"
   ]
  },
  {
   "cell_type": "markdown",
   "id": "e14b746d",
   "metadata": {},
   "source": [
    "# 5. Write a Python Program for cube sum of first n natural numbers?\n"
   ]
  },
  {
   "cell_type": "code",
   "execution_count": 3,
   "id": "222fec13",
   "metadata": {},
   "outputs": [
    {
     "name": "stdout",
     "output_type": "stream",
     "text": [
      "Enter a number upto which you want to find a cube sum 5\n",
      "Cube sum of 1-5 number is 225\n"
     ]
    }
   ],
   "source": [
    "try:\n",
    "    a  = int(input(\"Enter a number upto which you want to find a cube sum \"))  \n",
    "    if a < 0:\n",
    "        print(\"Enter a positive number\")\n",
    "    elif a == 0:\n",
    "        print(\"Sum of zero is zero. \")\n",
    "    else:\n",
    "        sumN = 0\n",
    "        for i in range(1,a+1):\n",
    "            sumN += i**3\n",
    "            #print(i, factorial)\n",
    "    print(\"Cube sum of 1-{} number is {}\".format(a , sumN))\n",
    "except Exception as e:\n",
    "    print(e, \"Enter integer value for input\")"
   ]
  }
 ],
 "metadata": {
  "kernelspec": {
   "display_name": "Python 3 (ipykernel)",
   "language": "python",
   "name": "python3"
  },
  "language_info": {
   "codemirror_mode": {
    "name": "ipython",
    "version": 3
   },
   "file_extension": ".py",
   "mimetype": "text/x-python",
   "name": "python",
   "nbconvert_exporter": "python",
   "pygments_lexer": "ipython3",
   "version": "3.9.7"
  }
 },
 "nbformat": 4,
 "nbformat_minor": 5
}
