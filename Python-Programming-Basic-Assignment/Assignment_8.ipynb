{
 "cells": [
  {
   "cell_type": "markdown",
   "metadata": {},
   "source": [
    "# 1. Write a Python Program to Add Two Matrices?\n",
    "\n"
   ]
  },
  {
   "cell_type": "code",
   "execution_count": 64,
   "metadata": {},
   "outputs": [],
   "source": [
    "a = [[1,2,3], \n",
    "     [4,5,6],\n",
    "     [7,8,9], \n",
    "    [11,22,33]]\n",
    "b = [[1,2,3], \n",
    "     [4,5,6],\n",
    "     [7,8,9], \n",
    "    [11,22,33]]\n",
    "\n",
    "result  = [[0,0,0], \n",
    "          [0,0,0], \n",
    "          [0,0,0], \n",
    "          [0,0,0]]\n",
    "\n",
    "for i in range(len(a)) :\n",
    "    for j in range(len(a[0])) : \n",
    "        result[i][j] = a[i][j]+b[i][j]"
   ]
  },
  {
   "cell_type": "code",
   "execution_count": 65,
   "metadata": {},
   "outputs": [
    {
     "data": {
      "text/plain": [
       "[[2, 4, 6], [8, 10, 12], [14, 16, 18], [22, 44, 66]]"
      ]
     },
     "execution_count": 65,
     "metadata": {},
     "output_type": "execute_result"
    }
   ],
   "source": [
    "result"
   ]
  },
  {
   "cell_type": "code",
   "execution_count": null,
   "metadata": {},
   "outputs": [],
   "source": []
  },
  {
   "cell_type": "markdown",
   "metadata": {},
   "source": [
    "# 2. Write a Python Program to Multiply Two Matrices?\n"
   ]
  },
  {
   "cell_type": "code",
   "execution_count": 3,
   "metadata": {},
   "outputs": [],
   "source": [
    "a = [[1,1,1],\n",
    "    [2,2,2],\n",
    "    [3,3,3]]\n",
    "b = [[1,1,1],\n",
    "    [2,2,2],\n",
    "    [3,3,3]]\n",
    "\n",
    "result  = [[0,0,0], \n",
    "          [0,0,0], \n",
    "          [0,0,0]]\n",
    "for i in range(len(a)):   \n",
    "    for j in range(len(a[0])):\n",
    "        for k in range(len(b)):\n",
    "            result[i][j] += a[i][k]*a[k][j]"
   ]
  },
  {
   "cell_type": "code",
   "execution_count": 4,
   "metadata": {},
   "outputs": [
    {
     "data": {
      "text/plain": [
       "[[6, 6, 6], [12, 12, 12], [18, 18, 18]]"
      ]
     },
     "execution_count": 4,
     "metadata": {},
     "output_type": "execute_result"
    }
   ],
   "source": [
    "result"
   ]
  },
  {
   "cell_type": "code",
   "execution_count": null,
   "metadata": {},
   "outputs": [],
   "source": []
  },
  {
   "cell_type": "markdown",
   "metadata": {},
   "source": [
    "# 3. Write a Python Program to Transpose a Matrix?\n"
   ]
  },
  {
   "cell_type": "code",
   "execution_count": 13,
   "metadata": {},
   "outputs": [],
   "source": [
    "a = [[1,2,3],\n",
    "    [4,5,6]]\n",
    "transposeA = [[0,0],\n",
    "             [0,0],\n",
    "             [0,0]]\n",
    "\n",
    "for i in range(len(a)):\n",
    "    for j in range(len(a[0])):\n",
    "        transposeA[j][i] = a[i][j]"
   ]
  },
  {
   "cell_type": "code",
   "execution_count": 14,
   "metadata": {},
   "outputs": [
    {
     "data": {
      "text/plain": [
       "[[1, 4], [2, 5], [3, 6]]"
      ]
     },
     "execution_count": 14,
     "metadata": {},
     "output_type": "execute_result"
    }
   ],
   "source": [
    "transposeA"
   ]
  },
  {
   "cell_type": "raw",
   "metadata": {},
   "source": []
  },
  {
   "cell_type": "markdown",
   "metadata": {},
   "source": [
    "# 4. Write a Python Program to Sort Words in Alphabetic Order?\n"
   ]
  },
  {
   "cell_type": "code",
   "execution_count": 30,
   "metadata": {},
   "outputs": [],
   "source": [
    "def sort_alphabetic(s):\n",
    "    l = s.split()\n",
    "    l.sort()\n",
    "    return l"
   ]
  },
  {
   "cell_type": "code",
   "execution_count": 31,
   "metadata": {},
   "outputs": [
    {
     "data": {
      "text/plain": [
       "['chudasama', 'is', 'my', 'name', 'ruchi']"
      ]
     },
     "execution_count": 31,
     "metadata": {},
     "output_type": "execute_result"
    }
   ],
   "source": [
    "sort_alphabetic(\"my name is ruchi chudasama\")"
   ]
  },
  {
   "cell_type": "markdown",
   "metadata": {},
   "source": [
    "# 5. Write a Python Program to Remove Punctuation From a String?"
   ]
  },
  {
   "cell_type": "code",
   "execution_count": 61,
   "metadata": {},
   "outputs": [
    {
     "name": "stdout",
     "output_type": "stream",
     "text": [
      "Hi whats your name\n"
     ]
    }
   ],
   "source": [
    "s = 'Hi, whats your name?'\n",
    "punctuation = '''''!()-[]{};:'\"\\,<>./?@#$%^&*_~'''  \n",
    "no_punctuation = \"\"\n",
    "\n",
    "for i in s:\n",
    "    if i not in punctuation:\n",
    "        no_punctuation += i\n",
    "print(no_punctuation)"
   ]
  },
  {
   "cell_type": "code",
   "execution_count": null,
   "metadata": {},
   "outputs": [],
   "source": []
  }
 ],
 "metadata": {
  "kernelspec": {
   "display_name": "Python 3",
   "language": "python",
   "name": "python3"
  },
  "language_info": {
   "codemirror_mode": {
    "name": "ipython",
    "version": 3
   },
   "file_extension": ".py",
   "mimetype": "text/x-python",
   "name": "python",
   "nbconvert_exporter": "python",
   "pygments_lexer": "ipython3",
   "version": "3.8.5"
  }
 },
 "nbformat": 4,
 "nbformat_minor": 5
}
