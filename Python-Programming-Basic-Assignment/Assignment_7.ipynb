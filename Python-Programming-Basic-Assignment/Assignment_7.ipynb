{
 "cells": [
  {
   "cell_type": "markdown",
   "metadata": {},
   "source": [
    "# 1. Write a python program to find sum of array?"
   ]
  },
  {
   "cell_type": "code",
   "execution_count": 16,
   "metadata": {},
   "outputs": [
    {
     "name": "stdout",
     "output_type": "stream",
     "text": [
      "Sum of array is: 3443\n"
     ]
    }
   ],
   "source": [
    "def sum_array(a):\n",
    "    sum = 0\n",
    "    for i in a:\n",
    "        sum += i\n",
    "    return sum\n",
    "        \n",
    "a = [88,43,3312]\n",
    "print(\"Sum of array is:\", sum_array(a))"
   ]
  },
  {
   "cell_type": "markdown",
   "metadata": {},
   "source": [
    "# 2. Write a python program to find largest element in an array?"
   ]
  },
  {
   "cell_type": "code",
   "execution_count": 36,
   "metadata": {},
   "outputs": [
    {
     "name": "stdout",
     "output_type": "stream",
     "text": [
      "Largest element of array is: 1000000\n"
     ]
    }
   ],
   "source": [
    "def largest_ele(a):\n",
    "    max = 0\n",
    "    if (type(a[0]) == int or type(a[0]) == float) :\n",
    "        max  = a[0]\n",
    "        for i in range(len(a)):\n",
    "            if a[i] > max :\n",
    "                max = a[i]\n",
    "                \n",
    "    if (type(a[0]) == list):\n",
    "        max  = a[0][0]\n",
    "        for i in range(len(a)):\n",
    "            for j in range(len(a[i])):\n",
    "                #print(a[i][j])\n",
    "                if a[i][j] > max :\n",
    "                    max = a[i][j]     \n",
    "\n",
    "    return max\n",
    "\n",
    "a = [[88,43,3312],[31222,12,4],[112,1000000]]\n",
    "print(\"Largest element of array is:\", largest_ele(a))"
   ]
  },
  {
   "cell_type": "markdown",
   "metadata": {},
   "source": [
    "# 3. Write a python program for array rotation? "
   ]
  },
  {
   "cell_type": "code",
   "execution_count": 16,
   "metadata": {},
   "outputs": [],
   "source": [
    "def rotate(arr, step):\n",
    "    rotated_array = []\n",
    "    temp = []\n",
    "    n = len(arr)\n",
    "    j = 0\n",
    "\n",
    "    while j+step < n:\n",
    "        rotated_array.append(a[j+step])\n",
    "        j = j+1\n",
    "        #print(j)\n",
    "    i =0\n",
    "    while i < step:\n",
    "        rotated_array.append(a[i])\n",
    "        i =i +1\n",
    "\n",
    "    return rotated_array\n"
   ]
  },
  {
   "cell_type": "code",
   "execution_count": 20,
   "metadata": {},
   "outputs": [],
   "source": [
    "a = [88,43,3312, 1,2, 3]"
   ]
  },
  {
   "cell_type": "code",
   "execution_count": 21,
   "metadata": {},
   "outputs": [
    {
     "name": "stdout",
     "output_type": "stream",
     "text": [
      "1\n",
      "2\n",
      "3\n"
     ]
    },
    {
     "data": {
      "text/plain": [
       "[1, 2, 3, 88, 43, 3312]"
      ]
     },
     "execution_count": 21,
     "metadata": {},
     "output_type": "execute_result"
    }
   ],
   "source": [
    "rotate(a,3)"
   ]
  },
  {
   "cell_type": "markdown",
   "metadata": {},
   "source": [
    "# 4. Write a Python Program to Split the array and add the first part to the end?"
   ]
  },
  {
   "cell_type": "code",
   "execution_count": 25,
   "metadata": {},
   "outputs": [],
   "source": [
    "def split_array(a, step):\n",
    "    n = len(a)\n",
    "    splitted_array  = a[step:n] + a[0:step]\n",
    "    return splitted_array"
   ]
  },
  {
   "cell_type": "code",
   "execution_count": 26,
   "metadata": {},
   "outputs": [],
   "source": [
    "l = [6,7,\"Ruchi\",2,88]"
   ]
  },
  {
   "cell_type": "code",
   "execution_count": 27,
   "metadata": {},
   "outputs": [
    {
     "data": {
      "text/plain": [
       "['Ruchi', 2, 88, 6, 7]"
      ]
     },
     "execution_count": 27,
     "metadata": {},
     "output_type": "execute_result"
    }
   ],
   "source": [
    "split_array(l,2)"
   ]
  },
  {
   "cell_type": "markdown",
   "metadata": {},
   "source": [
    "# 5. Write a Python Program to check if given array is Monotonic?\n"
   ]
  },
  {
   "cell_type": "code",
   "execution_count": 69,
   "metadata": {},
   "outputs": [],
   "source": [
    "def ifMonotonic(arr):\n",
    "    \n",
    "   return (all( arr[i] <= arr[i+1] for i in range(len(arr)-1)) or \n",
    "           all( arr[i] >= arr[i+1] for i in range(len(arr)-1)))"
   ]
  },
  {
   "cell_type": "code",
   "execution_count": 70,
   "metadata": {},
   "outputs": [
    {
     "data": {
      "text/plain": [
       "True"
      ]
     },
     "execution_count": 70,
     "metadata": {},
     "output_type": "execute_result"
    }
   ],
   "source": [
    "ifMonotonic([1,2,3,4])"
   ]
  },
  {
   "cell_type": "code",
   "execution_count": 71,
   "metadata": {},
   "outputs": [
    {
     "data": {
      "text/plain": [
       "False"
      ]
     },
     "execution_count": 71,
     "metadata": {},
     "output_type": "execute_result"
    }
   ],
   "source": [
    "ifMonotonic([2,56,78,1])"
   ]
  }
 ],
 "metadata": {
  "kernelspec": {
   "display_name": "Python 3",
   "language": "python",
   "name": "python3"
  },
  "language_info": {
   "codemirror_mode": {
    "name": "ipython",
    "version": 3
   },
   "file_extension": ".py",
   "mimetype": "text/x-python",
   "name": "python",
   "nbconvert_exporter": "python",
   "pygments_lexer": "ipython3",
   "version": "3.8.5"
  }
 },
 "nbformat": 4,
 "nbformat_minor": 5
}
