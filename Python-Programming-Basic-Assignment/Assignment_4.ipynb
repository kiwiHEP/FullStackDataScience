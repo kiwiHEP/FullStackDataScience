{
 "cells": [
  {
   "cell_type": "markdown",
   "metadata": {},
   "source": [
    "# 1. Write a Python Program to Find the Factorial of a Number?"
   ]
  },
  {
   "cell_type": "code",
   "execution_count": 10,
   "metadata": {},
   "outputs": [
    {
     "name": "stdout",
     "output_type": "stream",
     "text": [
      "Enter a number 10\n",
      "Factorial of 10 is 3628800\n"
     ]
    }
   ],
   "source": [
    "try:\n",
    "    a  = int(input(\"Enter a number \"))  \n",
    "    factorial = 1\n",
    "    for i in range(1,a+1):\n",
    "        factorial *= i\n",
    "        #print(i, factorial)\n",
    "    print(\"Factorial of {} is {}\".format(a , factorial))\n",
    "except Exception as e:\n",
    "    print(e, \"Enter integer value for input\")"
   ]
  },
  {
   "cell_type": "markdown",
   "metadata": {},
   "source": [
    "# 2. Write a Python Program to Display the multiplication Table? "
   ]
  },
  {
   "cell_type": "code",
   "execution_count": 18,
   "metadata": {},
   "outputs": [
    {
     "name": "stdout",
     "output_type": "stream",
     "text": [
      "Enter a number 32\n",
      "Multiplication table end value 32\n",
      "Multiplication table for 32.0\n",
      "32.0 x 1 = 32.0\n",
      "32.0 x 2 = 64.0\n",
      "32.0 x 3 = 96.0\n",
      "32.0 x 4 = 128.0\n",
      "32.0 x 5 = 160.0\n",
      "32.0 x 6 = 192.0\n",
      "32.0 x 7 = 224.0\n",
      "32.0 x 8 = 256.0\n",
      "32.0 x 9 = 288.0\n",
      "32.0 x 10 = 320.0\n",
      "32.0 x 11 = 352.0\n",
      "32.0 x 12 = 384.0\n",
      "32.0 x 13 = 416.0\n",
      "32.0 x 14 = 448.0\n",
      "32.0 x 15 = 480.0\n",
      "32.0 x 16 = 512.0\n",
      "32.0 x 17 = 544.0\n",
      "32.0 x 18 = 576.0\n",
      "32.0 x 19 = 608.0\n",
      "32.0 x 20 = 640.0\n",
      "32.0 x 21 = 672.0\n",
      "32.0 x 22 = 704.0\n",
      "32.0 x 23 = 736.0\n",
      "32.0 x 24 = 768.0\n",
      "32.0 x 25 = 800.0\n",
      "32.0 x 26 = 832.0\n",
      "32.0 x 27 = 864.0\n",
      "32.0 x 28 = 896.0\n",
      "32.0 x 29 = 928.0\n",
      "32.0 x 30 = 960.0\n",
      "32.0 x 31 = 992.0\n",
      "32.0 x 32 = 1024.0\n"
     ]
    }
   ],
   "source": [
    "a  = float(input(\"Enter a number \"))  \n",
    "end = int(input(\"Multiplication table end value \"))\n",
    "print(\"Multiplication table for {}\".format(a))\n",
    "for i in range(1,end+1):\n",
    "    mutiplication = a * i\n",
    "    print(\"{} x {} = {}\".format(a ,i, mutiplication))"
   ]
  },
  {
   "cell_type": "markdown",
   "metadata": {},
   "source": [
    "# 3. Write a Python Program to Print the Fibonacci sequence?"
   ]
  },
  {
   "cell_type": "code",
   "execution_count": 44,
   "metadata": {},
   "outputs": [
    {
     "name": "stdout",
     "output_type": "stream",
     "text": [
      "How many fibonnaci sequence numbers you want? 32\n",
      "First 32 numbers of Fibonnaci sequence are [0, 1, 1, 2, 3, 5, 8, 13, 21, 34, 55, 89, 144, 233, 377, 610, 987, 1597, 2584, 4181, 6765, 10946, 17711, 28657, 46368, 75025, 121393, 196418, 317811, 514229, 832040, 1346269]\n"
     ]
    }
   ],
   "source": [
    "fibonacci = []\n",
    "fibonacci.append(0)\n",
    "fibonacci.append(1)\n",
    "\n",
    "try:\n",
    "    a  = int(input(\"How many fibonnaci sequence numbers you want? \"))  \n",
    "    if a < 0:\n",
    "        print(\"enter positive integer\")\n",
    "    else:\n",
    "        for i in range(2,a):\n",
    "            fibonacci.append(fibonacci[i-1] + fibonacci[i-2])\n",
    "        print(\"First {} numbers of Fibonnaci sequence are {}\".format(a, fibonacci))\n",
    "    \n",
    "except Exception as e:\n",
    "        print(e, \"Enter integer value for input\")"
   ]
  },
  {
   "cell_type": "markdown",
   "metadata": {},
   "source": [
    "# 4. Write a Python Program to Check Armstrong Number?"
   ]
  },
  {
   "cell_type": "code",
   "execution_count": 7,
   "metadata": {},
   "outputs": [
    {
     "name": "stdout",
     "output_type": "stream",
     "text": [
      "Enter an integer number3\n",
      "3 is an armstrong number\n"
     ]
    }
   ],
   "source": [
    "try:\n",
    "    arm = int(input(\"Enter an integer number\"))\n",
    "    power = len(str(arm))\n",
    "    \n",
    "    num = 0\n",
    "    for digit in str(arm) :\n",
    "        \n",
    "        \n",
    "        \n",
    "        num += int(arm[i])**power\n",
    "        #print(num)\n",
    "    if arm == str(num):\n",
    "        print(\"{} is an armstrong number\".format(arm))\n",
    "    else:\n",
    "        print(\"{} is not an armstrong number\".format(arm))\n",
    "except Exception as e:\n",
    "        print(e, \"Enter integer value for input\")\n"
   ]
  },
  {
   "cell_type": "code",
   "execution_count": 7,
   "metadata": {},
   "outputs": [
    {
     "data": {
      "text/plain": [
       "(3, 15)"
      ]
     },
     "execution_count": 7,
     "metadata": {},
     "output_type": "execute_result"
    }
   ],
   "source": [
    "a = 153%10\n",
    "b = int(153/10)\n",
    "a,b"
   ]
  },
  {
   "cell_type": "code",
   "execution_count": 23,
   "metadata": {},
   "outputs": [],
   "source": [
    "def if_armstrong(arm):\n",
    "    isArmstrong = False\n",
    "    try:\n",
    "        num = 0\n",
    "        for digit in str(arm) :\n",
    "            num += int(digit)**len(str(arm))\n",
    "        if arm == num:\n",
    "            isArmstrong = True\n",
    "            #print(\"{} is an armstrong number\".format(arm))\n",
    "        #else:\n",
    "            #print(\"{} is not an armstrong number\".format(arm))\n",
    "    except Exception as e:\n",
    "            print(e, \"Enter integer value for input\")\n",
    "    return isArmstrong"
   ]
  },
  {
   "cell_type": "code",
   "execution_count": 24,
   "metadata": {},
   "outputs": [
    {
     "data": {
      "text/plain": [
       "True"
      ]
     },
     "execution_count": 24,
     "metadata": {},
     "output_type": "execute_result"
    }
   ],
   "source": [
    "if_armstrong(153)"
   ]
  },
  {
   "cell_type": "markdown",
   "metadata": {},
   "source": [
    "# 5. Write a Python Program to Find Armstrong Number in an Interval?"
   ]
  },
  {
   "cell_type": "code",
   "execution_count": 40,
   "metadata": {},
   "outputs": [
    {
     "name": "stdout",
     "output_type": "stream",
     "text": [
      "Enter an integer number 1\n",
      "Enter an integer number 100\n",
      "1\n",
      "2\n",
      "3\n",
      "4\n",
      "5\n",
      "6\n",
      "7\n",
      "8\n",
      "9\n"
     ]
    }
   ],
   "source": [
    "start = int(input(\"Enter an integer number \"))\n",
    "end = int(input(\"Enter an integer number \"))\n",
    "counter = 0\n",
    "for j in range(start,end):\n",
    "    if if_armstrong(j) :\n",
    "        counter +=1\n",
    "        print(j)\n",
    "if counter ==0 :\n",
    "    print(\"There are no armstrong number in range {}-{}\".format(start,end))\n"
   ]
  },
  {
   "cell_type": "markdown",
   "metadata": {},
   "source": [
    "# 6. Write a Python Program to Find the Sum of Natural Numbers?"
   ]
  },
  {
   "cell_type": "code",
   "execution_count": 43,
   "metadata": {},
   "outputs": [
    {
     "name": "stdout",
     "output_type": "stream",
     "text": [
      "Enter a number upto which you want to find a sum 23\n",
      "Sum of 1-23 number is 276\n"
     ]
    }
   ],
   "source": [
    "try:\n",
    "    a  = int(input(\"Enter a number upto which you want to find a sum \"))  \n",
    "    if a < 0:\n",
    "        print(\"Enter a positive number\")\n",
    "    elif a == 0:\n",
    "        print(\"Sum of zero is zero. \")\n",
    "    else:\n",
    "        sumN = 0\n",
    "        for i in range(1,a+1):\n",
    "            sumN += i\n",
    "            #print(i, factorial)\n",
    "    print(\"Sum of 1-{} number is {}\".format(a , sumN))\n",
    "except Exception as e:\n",
    "    print(e, \"Enter integer value for input\")"
   ]
  }
 ],
 "metadata": {
  "kernelspec": {
   "display_name": "Python 3 (ipykernel)",
   "language": "python",
   "name": "python3"
  },
  "language_info": {
   "codemirror_mode": {
    "name": "ipython",
    "version": 3
   },
   "file_extension": ".py",
   "mimetype": "text/x-python",
   "name": "python",
   "nbconvert_exporter": "python",
   "pygments_lexer": "ipython3",
   "version": "3.9.7"
  }
 },
 "nbformat": 4,
 "nbformat_minor": 4
}
