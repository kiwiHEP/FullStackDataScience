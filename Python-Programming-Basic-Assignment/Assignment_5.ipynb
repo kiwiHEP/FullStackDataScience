{
 "cells": [
  {
   "cell_type": "markdown",
   "metadata": {},
   "source": [
    "# 1. Write a Python Program to Find LCM?\n",
    "\n"
   ]
  },
  {
   "cell_type": "code",
   "execution_count": 31,
   "metadata": {},
   "outputs": [
    {
     "name": "stdout",
     "output_type": "stream",
     "text": [
      "Enter a number 28\n",
      "Enter a number 15\n",
      "LCM of 28 and 15 number is 420.0\n"
     ]
    }
   ],
   "source": [
    "try:\n",
    "    a = int(input(\"Enter a number \"))  \n",
    "    b = int(input(\"Enter a number \"))  \n",
    "  \n",
    "    if(a>b):\n",
    "        lower = b\n",
    "    else :\n",
    "        lower = a\n",
    "    HCF = 1\n",
    "    for i in range(2,lower+1):\n",
    "        if((a%i==0) and (b%i==0)) :\n",
    "            #print(i)\n",
    "            HCF = i\n",
    "    LCM  = (a*b)/HCF\n",
    "    print(\"LCM of {} and {} number is {}\".format(a,b,LCM))\n",
    "except Exception as e:\n",
    "    print(e, \"Enter integer value for input\")"
   ]
  },
  {
   "cell_type": "markdown",
   "metadata": {},
   "source": [
    "# 2. Write a Python Program to Find HCF?\n"
   ]
  },
  {
   "cell_type": "code",
   "execution_count": 35,
   "metadata": {},
   "outputs": [
    {
     "name": "stdout",
     "output_type": "stream",
     "text": [
      "Enter a number 28\n",
      "Enter a number 15\n",
      "HCF of 28 and 15 number is 1\n"
     ]
    }
   ],
   "source": [
    "try:\n",
    "    a = int(input(\"Enter a number \"))  \n",
    "    b = int(input(\"Enter a number \"))  \n",
    "  \n",
    "    HCF = 1\n",
    "    for i in range(2,lower+1):\n",
    "        if((a%i==0) and (b%i==0)) :\n",
    "            print(i)\n",
    "            HCF = i\n",
    "    print(\"HCF of {} and {} number is {}\".format(a,b,HCF))\n",
    "except Exception as e:\n",
    "    print(e, \"Enter integer value for input\")"
   ]
  },
  {
   "cell_type": "markdown",
   "metadata": {},
   "source": [
    "# 3. Write a Python Program to Convert Decimal to Binary, Octal and Hexadecimal?\n"
   ]
  },
  {
   "cell_type": "code",
   "execution_count": 5,
   "metadata": {},
   "outputs": [
    {
     "name": "stdout",
     "output_type": "stream",
     "text": [
      "Enter input12\n",
      "The binary value of 12 is 0b1100\n",
      "The Octal value of 12 is 0o14\n",
      "The Hexadecimal value of 12 is 0xc\n"
     ]
    }
   ],
   "source": [
    "try:\n",
    "    a = int(input(\"Enter input\"))\n",
    "    print(\"The binary value of {} is {}\".format(a, bin(a)))\n",
    "    print(\"The Octal value of {} is {}\".format(a, oct(a)))\n",
    "    print(\"The Hexadecimal value of {} is {}\".format(a, hex(a)))\n",
    "except Exception as e:\n",
    "    print(e, \"Enter integer value for input\")"
   ]
  },
  {
   "cell_type": "markdown",
   "metadata": {},
   "source": [
    "# 4. Write a Python Program To Find ASCII value of a character?\n"
   ]
  },
  {
   "cell_type": "code",
   "execution_count": 6,
   "metadata": {},
   "outputs": [
    {
     "name": "stdout",
     "output_type": "stream",
     "text": [
      "Enter input)\n",
      "The ascii value of ) is 41\n"
     ]
    }
   ],
   "source": [
    "try:\n",
    "    a = input(\"Enter input\")\n",
    "    print(\"The ascii value of {} is {}\".format(a, ord(a)))\n",
    "except Exception as e:\n",
    "    print(e, \"Enter a character\")\n"
   ]
  },
  {
   "cell_type": "markdown",
   "metadata": {},
   "source": [
    "# 5. Write a Python Program to Make a Simple Calculator with 4 basic mathematical operations?\n"
   ]
  },
  {
   "cell_type": "code",
   "execution_count": 7,
   "metadata": {},
   "outputs": [],
   "source": [
    "def add(a,b):\n",
    "    return a + b\n",
    "def subtract(a,b):\n",
    "    return a - b\n",
    "def mutiply(a,b):\n",
    "    return a * b\n",
    "def divide(a,b):\n",
    "    try:\n",
    "        return a / b\n",
    "    except Exception as e:\n",
    "        print(e)"
   ]
  },
  {
   "cell_type": "code",
   "execution_count": 9,
   "metadata": {},
   "outputs": [
    {
     "data": {
      "text/plain": [
       "3.0"
      ]
     },
     "execution_count": 9,
     "metadata": {},
     "output_type": "execute_result"
    }
   ],
   "source": [
    "divide(9,3)"
   ]
  }
 ],
 "metadata": {
  "kernelspec": {
   "display_name": "Python 3 (ipykernel)",
   "language": "python",
   "name": "python3"
  },
  "language_info": {
   "codemirror_mode": {
    "name": "ipython",
    "version": 3
   },
   "file_extension": ".py",
   "mimetype": "text/x-python",
   "name": "python",
   "nbconvert_exporter": "python",
   "pygments_lexer": "ipython3",
   "version": "3.9.7"
  }
 },
 "nbformat": 4,
 "nbformat_minor": 4
}
